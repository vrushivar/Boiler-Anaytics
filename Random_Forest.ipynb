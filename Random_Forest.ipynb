
#random Forest function
Input=[]
def RF(str,Input):
    x=df.drop([Y], axis=1, inplace=False)
    y=np.array(df[Y])
    X_train,X_test,y_train,y_test=train_test_split(x,y, test_size=0.3, random_state=50)
    TR=[]
    TE=[]
    model=RandomForestRegressor(n_estimators = 12,max_features="auto",bootstrap="True").fit(X_train,y_train)
    model_Train_pred=model.predict(X_train)
    model_pred=model.predict(X_test)
    modelfinal=model
    
    errorstr = mean_squared_error(y_train,model_Train_pred)
    errorste = mean_squared_error(y_test, model_pred)
    print("\n")
    print('\033[94m',"*********Accuracy results for Random Forest :",Y,"***********",'\033[0m')
    print('\nrmse(On train,On test)=',(errorstr*0.5,errorste*0.5))
    
    errorstr = mean_absolute_error(y_train,model_Train_pred)
    errorste = mean_absolute_error(y_test, model_pred)
    print('\nmae(On train,On test)=',(errorstr,errorste))
    
    r2tr = r2_score(y_train,model_Train_pred)
    r2te = r2_score(y_test, model_pred)
    print('\nR2(On train,On test)=',(r2tr,r2te))
    def regressor(Input):
        #x = scale.transform([x])
        x=np.array([Input])
        print("x:",x)
        prediction =modelfinal.predict(x)
        print("predicted value:")
        print(prediction[0]) 
    if(Input!=[]):regressor(Input)
